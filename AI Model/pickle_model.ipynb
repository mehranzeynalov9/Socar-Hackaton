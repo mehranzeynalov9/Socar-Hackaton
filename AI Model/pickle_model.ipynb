{
 "cells": [
  {
   "cell_type": "code",
   "execution_count": 6,
   "id": "4c8f8d42",
   "metadata": {},
   "outputs": [],
   "source": [
    "%matplotlib inline\n",
    "import seaborn as sns\n",
    "import plotly.express as px\n",
    "import matplotlib.pyplot as plt\n",
    "\n",
    "import numpy as np\n",
    "import pandas as pd\n",
    "pd.set_option('display.max_columns',50)\n",
    "\n",
    "from xgboost import XGBRegressor\n",
    "from sklearn.impute import SimpleImputer\n",
    "from sklearn.pipeline import make_pipeline\n",
    "from sklearn.preprocessing import StandardScaler\n",
    "from sklearn.ensemble import RandomForestRegressor\n",
    "from sklearn.inspection import permutation_importance\n",
    "from sklearn.linear_model import Ridge, LinearRegression\n",
    "from category_encoders import OneHotEncoder, OrdinalEncoder\n",
    "from sklearn.model_selection import GridSearchCV, RandomizedSearchCV, RandomizedSearchCV\n",
    "from sklearn.model_selection import train_test_split, cross_val_score, validation_curve, GridSearchCV\n",
    "from sklearn.metrics import roc_curve, plot_roc_curve, mean_absolute_error, mean_squared_error, accuracy_score\n",
    "\n",
    "import warnings\n",
    "warnings.filterwarnings(\"ignore\")"
   ]
  },
  {
   "cell_type": "markdown",
   "id": "70928d6b",
   "metadata": {},
   "source": [
    "# Modelling"
   ]
  },
  {
   "cell_type": "code",
   "execution_count": 9,
   "id": "55bce50d",
   "metadata": {},
   "outputs": [],
   "source": [
    "def modelden_evvel(filepath):\n",
    "    \n",
    "    df = pd.read_csv(filepath,parse_dates=['time'],index_col='time')\n",
    " \n",
    "    df.columns = df.columns.str.replace(' ','_').str.replace('-','_')\n",
    "\n",
    "    df.index = pd.to_datetime(df.index, utc=True)    \n",
    "    df['coal']=df['generation_fossil_brown_coal/lignite']+df['generation_fossil_hard_coal']\n",
    "    \n",
    "    df.drop(columns=['price_day_ahead',\n",
    "                     'generation_marine',\n",
    "                     'total_load_forecast',\n",
    "                     'generation_geothermal',\n",
    "                     'generation_fossil_peat',\n",
    "                     'generation_wind_offshore',\n",
    "                     'forecast_solar_day_ahead',\n",
    "                     'generation_fossil_oil_shale',\n",
    "                     'forecast_wind_onshore_day_ahead',\n",
    "                     'forecast_wind_offshore_eday_ahead',\n",
    "                     'generation_fossil_coal_derived_gas',\n",
    "                     'generation_hydro_pumped_storage_aggregated'],inplace=True)\n",
    "    \n",
    "    df = df.drop(pd.Timestamp('2014-12-31 23:00:00+00:00')) \n",
    "    \n",
    "    df = df.sort_index()\n",
    "    \n",
    "    condition_winter = (df.index.month>=1)&(df.index.month<=3)\n",
    "    condtion_spring = (df.index.month>=4)&(df.index.month<=6)\n",
    "    condition_summer = (df.index.month>=7)&(df.index.month<=9)\n",
    "    condition_automn = (df.index.month>=10)@(df.index.month<=12)\n",
    "    \n",
    "    df['season'] = np.where(condition_winter,'qis',\n",
    "                            np.where(condtion_spring,'yaz',\n",
    "                                     np.where(condition_summer,'yay',\n",
    "                                              np.where(condition_automn,'payiz',np.nan))))\n",
    "    \n",
    "    return df\n",
    "\n",
    "df=modelden_evvel('Data/energy_dataset.csv')[['coal',\n",
    "    'generation_fossil_oil',\n",
    "    'generation_fossil_gas',\n",
    "    'generation_hydro_water_reservoir',\n",
    "    'generation_hydro_run_of_river_and_poundage',\n",
    "    'generation_solar',\n",
    "    'season',\n",
    "   'generation_wind_onshore','price_actual']]"
   ]
  },
  {
   "cell_type": "code",
   "execution_count": 10,
   "id": "a3b3c204",
   "metadata": {},
   "outputs": [],
   "source": [
    "target='price_actual'\n",
    "\n",
    "y,X=df[target]*1.73,df.drop(columns=target)\n",
    "\n",
    "X_train,X_val,y_train,y_val = train_test_split(X,y,test_size=.2,random_state=42)"
   ]
  },
  {
   "cell_type": "code",
   "execution_count": null,
   "id": "af8e7240",
   "metadata": {},
   "outputs": [],
   "source": [
    "pipe_rs_xgb = make_pipeline(OrdinalEncoder(),\n",
    "                            SimpleImputer(),\n",
    "                            XGBRegressor(random_state=42,\n",
    "                                         n_jobs=-1))\n",
    "\n",
    "paramajama = {'simpleimputer__strategy':['mean'],\n",
    "              'xgbregressor__max_depth':[25],\n",
    "              'xgbregressor__learning_rate': [0.2],\n",
    "              'xgbregressor__booster':['dart'],\n",
    "              'xgbregressor__min_child_weight':[4],\n",
    "              'xgbregressor__gamma':[0.5],\n",
    "              'xgbregressor__max_delta_step':[0.0],\n",
    "              'xgbregressor__subsample':[0.7]}\n",
    "\n",
    "model_rs_xgbr = RandomizedSearchCV(pipe_rs_xgb,\n",
    "                                   param_distributions = paramajama,\n",
    "                                   n_iter=20,\n",
    "                                   n_jobs=-1)\n",
    "\n",
    "model_rs_xgbr.fit(X_train,y_train);\n",
    "\n",
    "print('Training MAE:', mean_absolute_error(y_train,model_rs_xgbr.predict(X_train)))\n",
    "print('-------------------------------------------------------------------')\n",
    "print('Validation MAE:', mean_absolute_error(y_val,model_rs_xgbr.predict(X_val)))\n",
    "print('-------------------------------------------------------------------')\n",
    "print('R2 score:', model_rs_xgbr.score(X_val,y_val))"
   ]
  },
  {
   "cell_type": "code",
   "execution_count": null,
   "id": "8030729f",
   "metadata": {},
   "outputs": [],
   "source": [
    "from sklearn.metrics import r2_score\n",
    "r2_score(y_val,model_rs_xgbr.predict(X_val))"
   ]
  },
  {
   "cell_type": "code",
   "execution_count": null,
   "id": "f811effc",
   "metadata": {},
   "outputs": [],
   "source": [
    "import joblib\n",
    "joblib.dump(model_rs_xgbr,'final_xgb_pipeline.pkl')"
   ]
  },
  {
   "cell_type": "markdown",
   "id": "945b80ab",
   "metadata": {},
   "source": [
    "## Load Model"
   ]
  },
  {
   "cell_type": "code",
   "execution_count": 1,
   "id": "448f1906",
   "metadata": {},
   "outputs": [
    {
     "name": "stderr",
     "output_type": "stream",
     "text": [
      "/Users/mehranzeynalli/opt/miniconda3/lib/python3.9/site-packages/xgboost/compat.py:36: FutureWarning: pandas.Int64Index is deprecated and will be removed from pandas in a future version. Use pandas.Index with the appropriate dtype instead.\n",
      "  from pandas import MultiIndex, Int64Index\n"
     ]
    }
   ],
   "source": [
    "import joblib\n",
    "model=joblib.load('final_xgb_pipeline.pkl')"
   ]
  },
  {
   "cell_type": "code",
   "execution_count": 2,
   "id": "2ca44018",
   "metadata": {
    "scrolled": false
   },
   "outputs": [
    {
     "data": {
      "text/html": [
       "<style>#sk-container-id-1 {color: black;background-color: white;}#sk-container-id-1 pre{padding: 0;}#sk-container-id-1 div.sk-toggleable {background-color: white;}#sk-container-id-1 label.sk-toggleable__label {cursor: pointer;display: block;width: 100%;margin-bottom: 0;padding: 0.3em;box-sizing: border-box;text-align: center;}#sk-container-id-1 label.sk-toggleable__label-arrow:before {content: \"▸\";float: left;margin-right: 0.25em;color: #696969;}#sk-container-id-1 label.sk-toggleable__label-arrow:hover:before {color: black;}#sk-container-id-1 div.sk-estimator:hover label.sk-toggleable__label-arrow:before {color: black;}#sk-container-id-1 div.sk-toggleable__content {max-height: 0;max-width: 0;overflow: hidden;text-align: left;background-color: #f0f8ff;}#sk-container-id-1 div.sk-toggleable__content pre {margin: 0.2em;color: black;border-radius: 0.25em;background-color: #f0f8ff;}#sk-container-id-1 input.sk-toggleable__control:checked~div.sk-toggleable__content {max-height: 200px;max-width: 100%;overflow: auto;}#sk-container-id-1 input.sk-toggleable__control:checked~label.sk-toggleable__label-arrow:before {content: \"▾\";}#sk-container-id-1 div.sk-estimator input.sk-toggleable__control:checked~label.sk-toggleable__label {background-color: #d4ebff;}#sk-container-id-1 div.sk-label input.sk-toggleable__control:checked~label.sk-toggleable__label {background-color: #d4ebff;}#sk-container-id-1 input.sk-hidden--visually {border: 0;clip: rect(1px 1px 1px 1px);clip: rect(1px, 1px, 1px, 1px);height: 1px;margin: -1px;overflow: hidden;padding: 0;position: absolute;width: 1px;}#sk-container-id-1 div.sk-estimator {font-family: monospace;background-color: #f0f8ff;border: 1px dotted black;border-radius: 0.25em;box-sizing: border-box;margin-bottom: 0.5em;}#sk-container-id-1 div.sk-estimator:hover {background-color: #d4ebff;}#sk-container-id-1 div.sk-parallel-item::after {content: \"\";width: 100%;border-bottom: 1px solid gray;flex-grow: 1;}#sk-container-id-1 div.sk-label:hover label.sk-toggleable__label {background-color: #d4ebff;}#sk-container-id-1 div.sk-serial::before {content: \"\";position: absolute;border-left: 1px solid gray;box-sizing: border-box;top: 0;bottom: 0;left: 50%;z-index: 0;}#sk-container-id-1 div.sk-serial {display: flex;flex-direction: column;align-items: center;background-color: white;padding-right: 0.2em;padding-left: 0.2em;position: relative;}#sk-container-id-1 div.sk-item {position: relative;z-index: 1;}#sk-container-id-1 div.sk-parallel {display: flex;align-items: stretch;justify-content: center;background-color: white;position: relative;}#sk-container-id-1 div.sk-item::before, #sk-container-id-1 div.sk-parallel-item::before {content: \"\";position: absolute;border-left: 1px solid gray;box-sizing: border-box;top: 0;bottom: 0;left: 50%;z-index: -1;}#sk-container-id-1 div.sk-parallel-item {display: flex;flex-direction: column;z-index: 1;position: relative;background-color: white;}#sk-container-id-1 div.sk-parallel-item:first-child::after {align-self: flex-end;width: 50%;}#sk-container-id-1 div.sk-parallel-item:last-child::after {align-self: flex-start;width: 50%;}#sk-container-id-1 div.sk-parallel-item:only-child::after {width: 0;}#sk-container-id-1 div.sk-dashed-wrapped {border: 1px dashed gray;margin: 0 0.4em 0.5em 0.4em;box-sizing: border-box;padding-bottom: 0.4em;background-color: white;}#sk-container-id-1 div.sk-label label {font-family: monospace;font-weight: bold;display: inline-block;line-height: 1.2em;}#sk-container-id-1 div.sk-label-container {text-align: center;}#sk-container-id-1 div.sk-container {/* jupyter's `normalize.less` sets `[hidden] { display: none; }` but bootstrap.min.css set `[hidden] { display: none !important; }` so we also need the `!important` here to be able to override the default hidden behavior on the sphinx rendered scikit-learn.org. See: https://github.com/scikit-learn/scikit-learn/issues/21755 */display: inline-block !important;position: relative;}#sk-container-id-1 div.sk-text-repr-fallback {display: none;}</style><div id=\"sk-container-id-1\" class=\"sk-top-container\"><div class=\"sk-text-repr-fallback\"><pre>RandomizedSearchCV(estimator=Pipeline(steps=[(&#x27;ordinalencoder&#x27;,\n",
       "                                              OrdinalEncoder()),\n",
       "                                             (&#x27;simpleimputer&#x27;, SimpleImputer()),\n",
       "                                             (&#x27;xgbregressor&#x27;,\n",
       "                                              XGBRegressor(base_score=None,\n",
       "                                                           booster=None,\n",
       "                                                           colsample_bylevel=None,\n",
       "                                                           colsample_bynode=None,\n",
       "                                                           colsample_bytree=None,\n",
       "                                                           enable_categorical=False,\n",
       "                                                           gamma=None,\n",
       "                                                           gpu_id=None,\n",
       "                                                           importance_type=None,\n",
       "                                                           interaction_constraints=None,\n",
       "                                                           learning_rat...\n",
       "                                                           validate_parameters=None,\n",
       "                                                           verbosity=None))]),\n",
       "                   n_iter=20, n_jobs=-1,\n",
       "                   param_distributions={&#x27;simpleimputer__strategy&#x27;: [&#x27;mean&#x27;],\n",
       "                                        &#x27;xgbregressor__booster&#x27;: [&#x27;dart&#x27;],\n",
       "                                        &#x27;xgbregressor__gamma&#x27;: [0.5],\n",
       "                                        &#x27;xgbregressor__learning_rate&#x27;: [0.2],\n",
       "                                        &#x27;xgbregressor__max_delta_step&#x27;: [0.0],\n",
       "                                        &#x27;xgbregressor__max_depth&#x27;: [25],\n",
       "                                        &#x27;xgbregressor__min_child_weight&#x27;: [4],\n",
       "                                        &#x27;xgbregressor__subsample&#x27;: [0.7]})</pre><b>In a Jupyter environment, please rerun this cell to show the HTML representation or trust the notebook. <br />On GitHub, the HTML representation is unable to render, please try loading this page with nbviewer.org.</b></div><div class=\"sk-container\" hidden><div class=\"sk-item sk-dashed-wrapped\"><div class=\"sk-label-container\"><div class=\"sk-label sk-toggleable\"><input class=\"sk-toggleable__control sk-hidden--visually\" id=\"sk-estimator-id-1\" type=\"checkbox\" ><label for=\"sk-estimator-id-1\" class=\"sk-toggleable__label sk-toggleable__label-arrow\">RandomizedSearchCV</label><div class=\"sk-toggleable__content\"><pre>RandomizedSearchCV(estimator=Pipeline(steps=[(&#x27;ordinalencoder&#x27;,\n",
       "                                              OrdinalEncoder()),\n",
       "                                             (&#x27;simpleimputer&#x27;, SimpleImputer()),\n",
       "                                             (&#x27;xgbregressor&#x27;,\n",
       "                                              XGBRegressor(base_score=None,\n",
       "                                                           booster=None,\n",
       "                                                           colsample_bylevel=None,\n",
       "                                                           colsample_bynode=None,\n",
       "                                                           colsample_bytree=None,\n",
       "                                                           enable_categorical=False,\n",
       "                                                           gamma=None,\n",
       "                                                           gpu_id=None,\n",
       "                                                           importance_type=None,\n",
       "                                                           interaction_constraints=None,\n",
       "                                                           learning_rat...\n",
       "                                                           validate_parameters=None,\n",
       "                                                           verbosity=None))]),\n",
       "                   n_iter=20, n_jobs=-1,\n",
       "                   param_distributions={&#x27;simpleimputer__strategy&#x27;: [&#x27;mean&#x27;],\n",
       "                                        &#x27;xgbregressor__booster&#x27;: [&#x27;dart&#x27;],\n",
       "                                        &#x27;xgbregressor__gamma&#x27;: [0.5],\n",
       "                                        &#x27;xgbregressor__learning_rate&#x27;: [0.2],\n",
       "                                        &#x27;xgbregressor__max_delta_step&#x27;: [0.0],\n",
       "                                        &#x27;xgbregressor__max_depth&#x27;: [25],\n",
       "                                        &#x27;xgbregressor__min_child_weight&#x27;: [4],\n",
       "                                        &#x27;xgbregressor__subsample&#x27;: [0.7]})</pre></div></div></div><div class=\"sk-parallel\"><div class=\"sk-parallel-item\"><div class=\"sk-item\"><div class=\"sk-label-container\"><div class=\"sk-label sk-toggleable\"><input class=\"sk-toggleable__control sk-hidden--visually\" id=\"sk-estimator-id-2\" type=\"checkbox\" ><label for=\"sk-estimator-id-2\" class=\"sk-toggleable__label sk-toggleable__label-arrow\">estimator: Pipeline</label><div class=\"sk-toggleable__content\"><pre>Pipeline(steps=[(&#x27;ordinalencoder&#x27;, OrdinalEncoder()),\n",
       "                (&#x27;simpleimputer&#x27;, SimpleImputer()),\n",
       "                (&#x27;xgbregressor&#x27;,\n",
       "                 XGBRegressor(base_score=None, booster=None,\n",
       "                              colsample_bylevel=None, colsample_bynode=None,\n",
       "                              colsample_bytree=None, enable_categorical=False,\n",
       "                              gamma=None, gpu_id=None, importance_type=None,\n",
       "                              interaction_constraints=None, learning_rate=None,\n",
       "                              max_delta_step=None, max_depth=None,\n",
       "                              min_child_weight=None, missing=nan,\n",
       "                              monotone_constraints=None, n_estimators=100,\n",
       "                              n_jobs=-1, num_parallel_tree=None, predictor=None,\n",
       "                              random_state=42, reg_alpha=None, reg_lambda=None,\n",
       "                              scale_pos_weight=None, subsample=None,\n",
       "                              tree_method=None, validate_parameters=None,\n",
       "                              verbosity=None))])</pre></div></div></div><div class=\"sk-serial\"><div class=\"sk-item\"><div class=\"sk-serial\"><div class=\"sk-item\"><div class=\"sk-estimator sk-toggleable\"><input class=\"sk-toggleable__control sk-hidden--visually\" id=\"sk-estimator-id-3\" type=\"checkbox\" ><label for=\"sk-estimator-id-3\" class=\"sk-toggleable__label sk-toggleable__label-arrow\">OrdinalEncoder</label><div class=\"sk-toggleable__content\"><pre>OrdinalEncoder()</pre></div></div></div><div class=\"sk-item\"><div class=\"sk-estimator sk-toggleable\"><input class=\"sk-toggleable__control sk-hidden--visually\" id=\"sk-estimator-id-4\" type=\"checkbox\" ><label for=\"sk-estimator-id-4\" class=\"sk-toggleable__label sk-toggleable__label-arrow\">SimpleImputer</label><div class=\"sk-toggleable__content\"><pre>SimpleImputer()</pre></div></div></div><div class=\"sk-item\"><div class=\"sk-estimator sk-toggleable\"><input class=\"sk-toggleable__control sk-hidden--visually\" id=\"sk-estimator-id-5\" type=\"checkbox\" ><label for=\"sk-estimator-id-5\" class=\"sk-toggleable__label sk-toggleable__label-arrow\">XGBRegressor</label><div class=\"sk-toggleable__content\"><pre>XGBRegressor(base_score=None, booster=None, colsample_bylevel=None,\n",
       "             colsample_bynode=None, colsample_bytree=None,\n",
       "             enable_categorical=False, gamma=None, gpu_id=None,\n",
       "             importance_type=None, interaction_constraints=None,\n",
       "             learning_rate=None, max_delta_step=None, max_depth=None,\n",
       "             min_child_weight=None, missing=nan, monotone_constraints=None,\n",
       "             n_estimators=100, n_jobs=-1, num_parallel_tree=None,\n",
       "             predictor=None, random_state=42, reg_alpha=None, reg_lambda=None,\n",
       "             scale_pos_weight=None, subsample=None, tree_method=None,\n",
       "             validate_parameters=None, verbosity=None)</pre></div></div></div></div></div></div></div></div></div></div></div></div>"
      ],
      "text/plain": [
       "RandomizedSearchCV(estimator=Pipeline(steps=[('ordinalencoder',\n",
       "                                              OrdinalEncoder()),\n",
       "                                             ('simpleimputer', SimpleImputer()),\n",
       "                                             ('xgbregressor',\n",
       "                                              XGBRegressor(base_score=None,\n",
       "                                                           booster=None,\n",
       "                                                           colsample_bylevel=None,\n",
       "                                                           colsample_bynode=None,\n",
       "                                                           colsample_bytree=None,\n",
       "                                                           enable_categorical=False,\n",
       "                                                           gamma=None,\n",
       "                                                           gpu_id=None,\n",
       "                                                           importance_type=None,\n",
       "                                                           interaction_constraints=None,\n",
       "                                                           learning_rat...\n",
       "                                                           validate_parameters=None,\n",
       "                                                           verbosity=None))]),\n",
       "                   n_iter=20, n_jobs=-1,\n",
       "                   param_distributions={'simpleimputer__strategy': ['mean'],\n",
       "                                        'xgbregressor__booster': ['dart'],\n",
       "                                        'xgbregressor__gamma': [0.5],\n",
       "                                        'xgbregressor__learning_rate': [0.2],\n",
       "                                        'xgbregressor__max_delta_step': [0.0],\n",
       "                                        'xgbregressor__max_depth': [25],\n",
       "                                        'xgbregressor__min_child_weight': [4],\n",
       "                                        'xgbregressor__subsample': [0.7]})"
      ]
     },
     "execution_count": 2,
     "metadata": {},
     "output_type": "execute_result"
    }
   ],
   "source": [
    "model"
   ]
  },
  {
   "cell_type": "code",
   "execution_count": 20,
   "id": "d7dbda07",
   "metadata": {},
   "outputs": [
    {
     "data": {
      "text/plain": [
       "array([69.5254], dtype=float32)"
      ]
     },
     "execution_count": 20,
     "metadata": {},
     "output_type": "execute_result"
    }
   ],
   "source": [
    "#test pred\n",
    "pred_data=pd.DataFrame({'komur':[0.0],\n",
    "             'neft':[1000.0],\n",
    "             'gaz':[1000.0],\n",
    "             'hidro su rezervi':[1000.0],\n",
    "             'hidrolik-çay':[1000.0],\n",
    "             'gunes':[2000.0],\n",
    "             'season':['yay'],\n",
    "             'kulek':[1000.0]})\n",
    "model.predict(pred_data)"
   ]
  },
  {
   "cell_type": "code",
   "execution_count": null,
   "id": "ee6d92c2",
   "metadata": {},
   "outputs": [],
   "source": []
  },
  {
   "cell_type": "code",
   "execution_count": null,
   "id": "0739242d",
   "metadata": {},
   "outputs": [],
   "source": []
  }
 ],
 "metadata": {
  "hide_input": false,
  "kernelspec": {
   "display_name": "Python 3 (ipykernel)",
   "language": "python",
   "name": "python3"
  },
  "language_info": {
   "codemirror_mode": {
    "name": "ipython",
    "version": 3
   },
   "file_extension": ".py",
   "mimetype": "text/x-python",
   "name": "python",
   "nbconvert_exporter": "python",
   "pygments_lexer": "ipython3",
   "version": "3.9.13"
  },
  "varInspector": {
   "cols": {
    "lenName": 16,
    "lenType": 16,
    "lenVar": 40
   },
   "kernels_config": {
    "python": {
     "delete_cmd_postfix": "",
     "delete_cmd_prefix": "del ",
     "library": "var_list.py",
     "varRefreshCmd": "print(var_dic_list())"
    },
    "r": {
     "delete_cmd_postfix": ") ",
     "delete_cmd_prefix": "rm(",
     "library": "var_list.r",
     "varRefreshCmd": "cat(var_dic_list()) "
    }
   },
   "types_to_exclude": [
    "module",
    "function",
    "builtin_function_or_method",
    "instance",
    "_Feature"
   ],
   "window_display": false
  }
 },
 "nbformat": 4,
 "nbformat_minor": 5
}
